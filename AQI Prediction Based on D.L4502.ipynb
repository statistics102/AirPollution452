{
  "cells": [
    {
      "cell_type": "code",
      "execution_count": 33,
      "metadata": {},
      "outputs": [],
      "source": [
        "import numpy as np\n",
        "%matplotlib inline\n",
        "import matplotlib.pyplot as plt\n",
        "import pandas as pd\n",
        "from datetime import datetime\n",
        "import seaborn as sns"
      ]
    },
    {
      "cell_type": "code",
      "execution_count": 35,
      "metadata": {
        "colab": {},
        "colab_type": "code",
        "id": "YjRQU2tmYFGb"
      },
      "outputs": [
        {
          "data": {
            "text/html": [
              "<div><div id=72ae4c81-b50b-44d8-be49-30295224888a style=\"display:none; background-color:#9D6CFF; color:white; width:200px; height:30px; padding-left:5px; border-radius:4px; flex-direction:row; justify-content:space-around; align-items:center;\" onmouseover=\"this.style.backgroundColor='#BA9BF8'\" onmouseout=\"this.style.backgroundColor='#9D6CFF'\" onclick=\"window.commands?.execute('create-mitosheet-from-dataframe-output');\">See Full Dataframe in Mito</div> <script> if (window.commands?.hasCommand('create-mitosheet-from-dataframe-output')) document.getElementById('72ae4c81-b50b-44d8-be49-30295224888a').style.display = 'flex' </script> <table border=\"1\" class=\"dataframe\">\n",
              "  <thead>\n",
              "    <tr style=\"text-align: right;\">\n",
              "      <th></th>\n",
              "      <th>AQI</th>\n",
              "      <th>PM2.5</th>\n",
              "      <th>PM10</th>\n",
              "      <th>O3</th>\n",
              "      <th>CO</th>\n",
              "      <th>SO2</th>\n",
              "      <th>NO2</th>\n",
              "      <th>TruAQI</th>\n",
              "      <th>notes</th>\n",
              "    </tr>\n",
              "  </thead>\n",
              "  <tbody>\n",
              "    <tr>\n",
              "      <th>count</th>\n",
              "      <td>10610.000000</td>\n",
              "      <td>10610.000000</td>\n",
              "      <td>10610.000000</td>\n",
              "      <td>10610.000000</td>\n",
              "      <td>10610.000000</td>\n",
              "      <td>10610.000000</td>\n",
              "      <td>10610.000000</td>\n",
              "      <td>10610.000000</td>\n",
              "      <td>0.0</td>\n",
              "    </tr>\n",
              "    <tr>\n",
              "      <th>mean</th>\n",
              "      <td>166.254477</td>\n",
              "      <td>132.188108</td>\n",
              "      <td>139.443644</td>\n",
              "      <td>37.247923</td>\n",
              "      <td>106.643639</td>\n",
              "      <td>13.186552</td>\n",
              "      <td>31.811470</td>\n",
              "      <td>166.254477</td>\n",
              "      <td>NaN</td>\n",
              "    </tr>\n",
              "    <tr>\n",
              "      <th>std</th>\n",
              "      <td>108.777329</td>\n",
              "      <td>129.681394</td>\n",
              "      <td>107.182628</td>\n",
              "      <td>32.845773</td>\n",
              "      <td>119.748285</td>\n",
              "      <td>9.876863</td>\n",
              "      <td>34.156054</td>\n",
              "      <td>108.777329</td>\n",
              "      <td>NaN</td>\n",
              "    </tr>\n",
              "    <tr>\n",
              "      <th>min</th>\n",
              "      <td>15.000000</td>\n",
              "      <td>4.000000</td>\n",
              "      <td>7.000000</td>\n",
              "      <td>1.000000</td>\n",
              "      <td>0.250000</td>\n",
              "      <td>2.000000</td>\n",
              "      <td>0.670000</td>\n",
              "      <td>15.000000</td>\n",
              "      <td>NaN</td>\n",
              "    </tr>\n",
              "    <tr>\n",
              "      <th>25%</th>\n",
              "      <td>91.000000</td>\n",
              "      <td>33.180000</td>\n",
              "      <td>61.000000</td>\n",
              "      <td>10.000000</td>\n",
              "      <td>3.000000</td>\n",
              "      <td>4.400000</td>\n",
              "      <td>6.000000</td>\n",
              "      <td>91.000000</td>\n",
              "      <td>NaN</td>\n",
              "    </tr>\n",
              "    <tr>\n",
              "      <th>50%</th>\n",
              "      <td>141.000000</td>\n",
              "      <td>67.060000</td>\n",
              "      <td>100.820000</td>\n",
              "      <td>26.000000</td>\n",
              "      <td>52.000000</td>\n",
              "      <td>10.000000</td>\n",
              "      <td>18.000000</td>\n",
              "      <td>141.000000</td>\n",
              "      <td>NaN</td>\n",
              "    </tr>\n",
              "    <tr>\n",
              "      <th>75%</th>\n",
              "      <td>230.000000</td>\n",
              "      <td>193.000000</td>\n",
              "      <td>198.000000</td>\n",
              "      <td>58.890000</td>\n",
              "      <td>204.000000</td>\n",
              "      <td>20.000000</td>\n",
              "      <td>47.000000</td>\n",
              "      <td>230.000000</td>\n",
              "      <td>NaN</td>\n",
              "    </tr>\n",
              "    <tr>\n",
              "      <th>max</th>\n",
              "      <td>450.000000</td>\n",
              "      <td>500.000000</td>\n",
              "      <td>480.000000</td>\n",
              "      <td>225.000000</td>\n",
              "      <td>410.000000</td>\n",
              "      <td>48.000000</td>\n",
              "      <td>119.000000</td>\n",
              "      <td>450.000000</td>\n",
              "      <td>NaN</td>\n",
              "    </tr>\n",
              "  </tbody>\n",
              "</table></div>"
            ],
            "text/plain": [
              "                AQI         PM2.5          PM10            O3            CO   \n",
              "count  10610.000000  10610.000000  10610.000000  10610.000000  10610.000000  \\\n",
              "mean     166.254477    132.188108    139.443644     37.247923    106.643639   \n",
              "std      108.777329    129.681394    107.182628     32.845773    119.748285   \n",
              "min       15.000000      4.000000      7.000000      1.000000      0.250000   \n",
              "25%       91.000000     33.180000     61.000000     10.000000      3.000000   \n",
              "50%      141.000000     67.060000    100.820000     26.000000     52.000000   \n",
              "75%      230.000000    193.000000    198.000000     58.890000    204.000000   \n",
              "max      450.000000    500.000000    480.000000    225.000000    410.000000   \n",
              "\n",
              "                SO2           NO2        TruAQI  notes  \n",
              "count  10610.000000  10610.000000  10610.000000    0.0  \n",
              "mean      13.186552     31.811470    166.254477    NaN  \n",
              "std        9.876863     34.156054    108.777329    NaN  \n",
              "min        2.000000      0.670000     15.000000    NaN  \n",
              "25%        4.400000      6.000000     91.000000    NaN  \n",
              "50%       10.000000     18.000000    141.000000    NaN  \n",
              "75%       20.000000     47.000000    230.000000    NaN  \n",
              "max       48.000000    119.000000    450.000000    NaN  "
            ]
          },
          "execution_count": 35,
          "metadata": {},
          "output_type": "execute_result"
        }
      ],
      "source": [
        "# load dataset\n",
        "df = pd.read_csv('df_p.csv', header=0, index_col=0)\n",
        "df.describe()"
      ]
    },
    {
      "cell_type": "code",
      "execution_count": 36,
      "metadata": {},
      "outputs": [],
      "source": [
        "# Note: This pulldown content is for docs.cleanlab.ai, if running on local Jupyter or Colab, please ignore it.\n",
        "\n",
        "import numpy as np\n",
        "import matplotlib.pyplot as plt\n",
        "from mpl_toolkits.mplot3d import Axes3D\n",
        "\n",
        "def plot_data(df, errors_idx):\n",
        "    fig = plt.figure()\n",
        "    ax = fig.add_subplot(111, projection='3d')\n",
        "\n",
        "    x, y, z = df[\"PM2.5\"], df[\"PM10\"], df[\"O3\"]\n",
        "    labels = df[\"AQI\"]\n",
        "\n",
        "    img = ax.scatter(x, y, z, c=labels, cmap=\"jet\")\n",
        "    fig.colorbar(img)\n",
        "\n",
        "    ax.plot(\n",
        "        x.iloc[errors_idx],\n",
        "        y.iloc[errors_idx],\n",
        "        z.iloc[errors_idx],\n",
        "        \"x\",\n",
        "        markeredgecolor=\"black\",\n",
        "        markersize=10,\n",
        "        markeredgewidth=2.5,\n",
        "        alpha=0.8,\n",
        "        label=\"Label Errors\"\n",
        "    )\n",
        "    ax.legend()"
      ]
    },
    {
      "cell_type": "code",
      "execution_count": 37,
      "metadata": {
        "colab": {
          "base_uri": "https://localhost:8080/",
          "height": 235
        },
        "colab_type": "code",
        "id": "QWW63YcTnNTL",
        "outputId": "68e79825-5251-4c42-9ed2-f4603cbb2dc5"
      },
      "outputs": [
        {
          "data": {
            "image/png": "[encoded data removed]",
            "text/plain": [
              "<Figure size 432x288 with 2 Axes>"
            ]
          },
          "metadata": {
            "needs_background": "light"
          },
          "output_type": "display_data"
        }
      ],
      "source": [
        "errors_mask = df[\"AQI\"] != df[\"TruAQI\"]\n",
        "errors_idx = np.where(errors_mask == 1)\n",
        "\n",
        "plot_data(df, errors_idx)"
      ]
    },
    {
      "cell_type": "code",
      "execution_count": 38,
      "metadata": {
        "colab": {
          "base_uri": "https://localhost:8080/",
          "height": 136
        },
        "colab_type": "code",
        "id": "hLWvB7QcnuuZ",
        "outputId": "90e41074-b8ec-4620-a46f-08a5f7ceeb61"
      },
      "outputs": [],
      "source": [
        "feature_columns = [\"PM2.5\", \"PM10\", \"O3\", \"CO\", \"SO2\", \"NO2\",\"notes\"]\t\t\t\n",
        "predicted_column = \"AQI\"\n",
        "\n",
        "X_train_raw, y_train = df[feature_columns], df[predicted_column]\n",
        "X_test_raw, y_test = df[feature_columns], df[predicted_column]"
      ]
    },
    {
      "cell_type": "code",
      "execution_count": 39,
      "metadata": {},
      "outputs": [],
      "source": [
        "categorical_features = [\"notes\"]\n",
        "X_train = pd.get_dummies(X_train_raw, columns=categorical_features)\n",
        "X_test = pd.get_dummies(X_test_raw, columns=categorical_features)"
      ]
    },
    {
      "cell_type": "code",
      "execution_count": 91,
      "metadata": {},
      "outputs": [],
      "source": [
        "model = HistGradientBoostingRegressor()\n",
        "cl = CleanLearning(model)"
      ]
    },
    {
      "cell_type": "code",
      "execution_count": 78,
      "metadata": {},
      "outputs": [],
      "source": [
        "import pandas as pd\n",
        "from sklearn.preprocessing import StandardScaler\n",
        "import joblib"
      ]
    },
    {
      "cell_type": "code",
      "execution_count": 84,
      "metadata": {},
      "outputs": [],
      "source": [
        "# Step 1: Read the Excel Data\n",
        "excel_file = \"PredAQI.xlsx\"\n",
        "df = pd.read_excel(excel_file)"
      ]
    },
    {
      "cell_type": "code",
      "execution_count": 46,
      "metadata": {},
      "outputs": [
        {
          "name": "stdout",
          "output_type": "stream",
          "text": [
            "cleanlab found 0 potential label errors in the dataset.\n",
            "Here are indices of the top 10 most likely errors: \n",
            " [4566 4583 4973 4977 4975 4972 4976 4974 4568 4569]\n"
          ]
        }
      ],
      "source": [
        "print(\n",
        "    f\"cleanlab found {len(identified_issues)} potential label errors in the dataset.\\n\"\n",
        "    f\"Here are indices of the top 10 most likely errors: \\n {lowest_quality_labels}\"\n",
        ")"
      ]
    },
    {
      "cell_type": "code",
      "execution_count": 47,
      "metadata": {},
      "outputs": [],
      "source": [
        "def view_datapoint(index):\n",
        "    given_labels = label_issues[\"given_label\"]\n",
        "    predicted_labels = label_issues[\"predicted_label\"].round(1)\n",
        "    return pd.concat(\n",
        "        [X_train_raw, given_labels, predicted_labels], axis=1\n",
        "    ).iloc[index]"
      ]
    },
    {
      "cell_type": "code",
      "execution_count": 48,
      "metadata": {},
      "outputs": [
        {
          "data": {
            "text/html": [
              "<div><div id=a2540bfd-9c5f-4b82-9def-a80a29013b97 style=\"display:none; background-color:#9D6CFF; color:white; width:200px; height:30px; padding-left:5px; border-radius:4px; flex-direction:row; justify-content:space-around; align-items:center;\" onmouseover=\"this.style.backgroundColor='#BA9BF8'\" onmouseout=\"this.style.backgroundColor='#9D6CFF'\" onclick=\"window.commands?.execute('create-mitosheet-from-dataframe-output');\">See Full Dataframe in Mito</div> <script> if (window.commands?.hasCommand('create-mitosheet-from-dataframe-output')) document.getElementById('a2540bfd-9c5f-4b82-9def-a80a29013b97').style.display = 'flex' </script> <table border=\"1\" class=\"dataframe\">\n",
              "  <thead>\n",
              "    <tr style=\"text-align: right;\">\n",
              "      <th></th>\n",
              "      <th>PM2.5</th>\n",
              "      <th>PM10</th>\n",
              "      <th>O3</th>\n",
              "      <th>CO</th>\n",
              "      <th>SO2</th>\n",
              "      <th>NO2</th>\n",
              "      <th>notes</th>\n",
              "      <th>given_label</th>\n",
              "      <th>predicted_label</th>\n",
              "    </tr>\n",
              "  </thead>\n",
              "  <tbody>\n",
              "    <tr>\n",
              "      <th>6305</th>\n",
              "      <td>347.0</td>\n",
              "      <td>233.0</td>\n",
              "      <td>2.0</td>\n",
              "      <td>149.0</td>\n",
              "      <td>12.0</td>\n",
              "      <td>62.0</td>\n",
              "      <td>NaN</td>\n",
              "      <td>281.0</td>\n",
              "      <td>281.0</td>\n",
              "    </tr>\n",
              "    <tr>\n",
              "      <th>6322</th>\n",
              "      <td>37.0</td>\n",
              "      <td>150.0</td>\n",
              "      <td>2.0</td>\n",
              "      <td>18.0</td>\n",
              "      <td>9.0</td>\n",
              "      <td>33.0</td>\n",
              "      <td>NaN</td>\n",
              "      <td>281.0</td>\n",
              "      <td>281.0</td>\n",
              "    </tr>\n",
              "    <tr>\n",
              "      <th>6727</th>\n",
              "      <td>350.0</td>\n",
              "      <td>281.0</td>\n",
              "      <td>2.0</td>\n",
              "      <td>122.0</td>\n",
              "      <td>17.0</td>\n",
              "      <td>61.0</td>\n",
              "      <td>NaN</td>\n",
              "      <td>449.0</td>\n",
              "      <td>448.9</td>\n",
              "    </tr>\n",
              "    <tr>\n",
              "      <th>6731</th>\n",
              "      <td>350.0</td>\n",
              "      <td>281.0</td>\n",
              "      <td>2.0</td>\n",
              "      <td>122.0</td>\n",
              "      <td>17.0</td>\n",
              "      <td>61.0</td>\n",
              "      <td>NaN</td>\n",
              "      <td>449.0</td>\n",
              "      <td>448.9</td>\n",
              "    </tr>\n",
              "    <tr>\n",
              "      <th>6729</th>\n",
              "      <td>350.0</td>\n",
              "      <td>281.0</td>\n",
              "      <td>2.0</td>\n",
              "      <td>122.0</td>\n",
              "      <td>17.0</td>\n",
              "      <td>61.0</td>\n",
              "      <td>NaN</td>\n",
              "      <td>449.0</td>\n",
              "      <td>449.0</td>\n",
              "    </tr>\n",
              "  </tbody>\n",
              "</table></div>"
            ],
            "text/plain": [
              "      PM2.5   PM10   O3     CO   SO2   NO2  notes  given_label   \n",
              "6305  347.0  233.0  2.0  149.0  12.0  62.0    NaN        281.0  \\\n",
              "6322   37.0  150.0  2.0   18.0   9.0  33.0    NaN        281.0   \n",
              "6727  350.0  281.0  2.0  122.0  17.0  61.0    NaN        449.0   \n",
              "6731  350.0  281.0  2.0  122.0  17.0  61.0    NaN        449.0   \n",
              "6729  350.0  281.0  2.0  122.0  17.0  61.0    NaN        449.0   \n",
              "\n",
              "      predicted_label  \n",
              "6305            281.0  \n",
              "6322            281.0  \n",
              "6727            448.9  \n",
              "6731            448.9  \n",
              "6729            449.0  "
            ]
          },
          "execution_count": 48,
          "metadata": {},
          "output_type": "execute_result"
        }
      ],
      "source": [
        "view_datapoint(lowest_quality_labels[:5])\n"
      ]
    },
    {
      "cell_type": "code",
      "execution_count": 49,
      "metadata": {},
      "outputs": [],
      "source": [
        "given_label=label_issues['given_label']\n",
        "predicted_label=label_issues['predicted_label']"
      ]
    },
    {
      "cell_type": "code",
      "execution_count": 114,
      "metadata": {
        "colab": {
          "base_uri": "https://localhost:8080/",
          "height": 297
        },
        "colab_type": "code",
        "id": "3OFd6lx-n5EP",
        "outputId": "ece5ab3d-a45b-4101-f495-4c95b531ae34"
      },
      "outputs": [
        {
          "data": {
            "text/html": [
              "<div><div id=95e5df99-aafc-4de3-848a-f07c30ca6962 style=\"display:none; background-color:#9D6CFF; color:white; width:200px; height:30px; padding-left:5px; border-radius:4px; flex-direction:row; justify-content:space-around; align-items:center;\" onmouseover=\"this.style.backgroundColor='#BA9BF8'\" onmouseout=\"this.style.backgroundColor='#9D6CFF'\" onclick=\"window.commands?.execute('create-mitosheet-from-dataframe-output');\">See Full Dataframe in Mito</div> <script> if (window.commands?.hasCommand('create-mitosheet-from-dataframe-output')) document.getElementById('95e5df99-aafc-4de3-848a-f07c30ca6962').style.display = 'flex' </script> <table border=\"1\" class=\"dataframe\">\n",
              "  <thead>\n",
              "    <tr style=\"text-align: right;\">\n",
              "      <th></th>\n",
              "      <th>AQI</th>\n",
              "      <th>PM2.5</th>\n",
              "      <th>PM10</th>\n",
              "      <th>O3</th>\n",
              "      <th>CO</th>\n",
              "      <th>SO2</th>\n",
              "      <th>NO2</th>\n",
              "    </tr>\n",
              "  </thead>\n",
              "  <tbody>\n",
              "    <tr>\n",
              "      <th>count</th>\n",
              "      <td>10610.000000</td>\n",
              "      <td>10610.000000</td>\n",
              "      <td>10610.000000</td>\n",
              "      <td>10610.000000</td>\n",
              "      <td>10610.000000</td>\n",
              "      <td>10610.000000</td>\n",
              "      <td>10610.000000</td>\n",
              "    </tr>\n",
              "    <tr>\n",
              "      <th>mean</th>\n",
              "      <td>166.254477</td>\n",
              "      <td>132.188108</td>\n",
              "      <td>139.443644</td>\n",
              "      <td>37.247923</td>\n",
              "      <td>106.643639</td>\n",
              "      <td>13.186552</td>\n",
              "      <td>31.811470</td>\n",
              "    </tr>\n",
              "    <tr>\n",
              "      <th>std</th>\n",
              "      <td>108.777329</td>\n",
              "      <td>129.681394</td>\n",
              "      <td>107.182628</td>\n",
              "      <td>32.845773</td>\n",
              "      <td>119.748285</td>\n",
              "      <td>9.876863</td>\n",
              "      <td>34.156054</td>\n",
              "    </tr>\n",
              "    <tr>\n",
              "      <th>min</th>\n",
              "      <td>15.000000</td>\n",
              "      <td>4.000000</td>\n",
              "      <td>7.000000</td>\n",
              "      <td>1.000000</td>\n",
              "      <td>0.250000</td>\n",
              "      <td>2.000000</td>\n",
              "      <td>0.670000</td>\n",
              "    </tr>\n",
              "    <tr>\n",
              "      <th>25%</th>\n",
              "      <td>91.000000</td>\n",
              "      <td>33.180000</td>\n",
              "      <td>61.000000</td>\n",
              "      <td>10.000000</td>\n",
              "      <td>3.000000</td>\n",
              "      <td>4.400000</td>\n",
              "      <td>6.000000</td>\n",
              "    </tr>\n",
              "    <tr>\n",
              "      <th>50%</th>\n",
              "      <td>141.000000</td>\n",
              "      <td>67.060000</td>\n",
              "      <td>100.820000</td>\n",
              "      <td>26.000000</td>\n",
              "      <td>52.000000</td>\n",
              "      <td>10.000000</td>\n",
              "      <td>18.000000</td>\n",
              "    </tr>\n",
              "    <tr>\n",
              "      <th>75%</th>\n",
              "      <td>230.000000</td>\n",
              "      <td>193.000000</td>\n",
              "      <td>198.000000</td>\n",
              "      <td>58.890000</td>\n",
              "      <td>204.000000</td>\n",
              "      <td>20.000000</td>\n",
              "      <td>47.000000</td>\n",
              "    </tr>\n",
              "    <tr>\n",
              "      <th>max</th>\n",
              "      <td>450.000000</td>\n",
              "      <td>500.000000</td>\n",
              "      <td>480.000000</td>\n",
              "      <td>225.000000</td>\n",
              "      <td>410.000000</td>\n",
              "      <td>48.000000</td>\n",
              "      <td>119.000000</td>\n",
              "    </tr>\n",
              "  </tbody>\n",
              "</table></div>"
            ],
            "text/plain": [
              "                AQI         PM2.5          PM10            O3            CO   \n",
              "count  10610.000000  10610.000000  10610.000000  10610.000000  10610.000000  \\\n",
              "mean     166.254477    132.188108    139.443644     37.247923    106.643639   \n",
              "std      108.777329    129.681394    107.182628     32.845773    119.748285   \n",
              "min       15.000000      4.000000      7.000000      1.000000      0.250000   \n",
              "25%       91.000000     33.180000     61.000000     10.000000      3.000000   \n",
              "50%      141.000000     67.060000    100.820000     26.000000     52.000000   \n",
              "75%      230.000000    193.000000    198.000000     58.890000    204.000000   \n",
              "max      450.000000    500.000000    480.000000    225.000000    410.000000   \n",
              "\n",
              "                SO2           NO2  \n",
              "count  10610.000000  10610.000000  \n",
              "mean      13.186552     31.811470  \n",
              "std        9.876863     34.156054  \n",
              "min        2.000000      0.670000  \n",
              "25%        4.400000      6.000000  \n",
              "50%       10.000000     18.000000  \n",
              "75%       20.000000     47.000000  \n",
              "max       48.000000    119.000000  "
            ]
          },
          "execution_count": 114,
          "metadata": {},
          "output_type": "execute_result"
        }
      ],
      "source": [
        "# load dataset\n",
        "df = pd.read_csv('df_poll.csv', header=0, index_col=0)\n",
        "df.describe()"
      ]
    },
    {
      "cell_type": "code",
      "execution_count": 115,
      "metadata": {
        "colab": {
          "base_uri": "https://localhost:8080/",
          "height": 34
        },
        "colab_type": "code",
        "id": "6bRhvqIcpYeV",
        "outputId": "fa0e3ca9-b0a8-4801-e9e6-12970046c684"
      },
      "outputs": [
        {
          "data": {
            "text/plain": [
              "['AQI', 'PM2.5', 'PM10', 'O3', 'CO', 'SO2', 'NO2']"
            ]
          },
          "execution_count": 115,
          "metadata": {},
          "output_type": "execute_result"
        }
      ],
      "source": [
        "dataset_columns = df.columns.tolist()\n",
        "dataset_columns"
      ]
    },
    {
      "cell_type": "code",
      "execution_count": 116,
      "metadata": {
        "colab": {
          "base_uri": "https://localhost:8080/",
          "height": 283
        },
        "colab_type": "code",
        "id": "OplB_zJ-pkqj",
        "outputId": "e390c278-c79e-40d3-ae79-5febdd209119"
      },
      "outputs": [
        {
          "data": {
            "text/plain": [
              "<Axes: >"
            ]
          },
          "execution_count": 116,
          "metadata": {},
          "output_type": "execute_result"
        },
        {
          "data": {
            "image/png": "[encoded data removed]",
            "text/plain": [
              "<Figure size 432x288 with 1 Axes>"
            ]
          },
          "metadata": {
            "needs_background": "light"
          },
          "output_type": "display_data"
        }
      ],
      "source": [
        "#Box plot\n",
        "#pd.options.display.mpl_style = False\n",
        "df.boxplot()"
      ]
    },
    {
      "cell_type": "code",
      "execution_count": 120,
      "metadata": {},
      "outputs": [
        {
          "data": {
            "text/plain": [
              "Text(0.5, 1.0, 'pollution')"
            ]
          },
          "execution_count": 120,
          "metadata": {},
          "output_type": "execute_result"
        },
        {
          "data": {
            "image/png": "[encoded data removed]",
            "text/plain": [
              "<Figure size 720x648 with 1 Axes>"
            ]
          },
          "metadata": {
            "needs_background": "light"
          },
          "output_type": "display_data"
        }
      ],
      "source": [
        "#matrica korelacije\n",
        "plt.figure(figsize= (10,9))\n",
        "corr = df.corr()\n",
        "matrix = np.triu(corr)\n",
        "heatmap = sns.heatmap(corr, vmin = -1, vmax = 1, annot = True, cmap = 'Blues',cbar=False, mask = matrix)\n",
        "heatmap.set_title('pollution', fontdict = {'fontsize':30})"
      ]
    },
    {
      "cell_type": "code",
      "execution_count": 122,
      "metadata": {
        "colab": {
          "base_uri": "https://localhost:8080/",
          "height": 34
        },
        "colab_type": "code",
        "id": "Zk5k12EiqKfP",
        "outputId": "92241b0c-fd17-4820-dbe6-ec0994372400"
      },
      "outputs": [
        {
          "data": {
            "text/plain": [
              "array([12., 12., 12., ...,  9.,  9.,  9.], dtype=float32)"
            ]
          },
          "execution_count": 122,
          "metadata": {},
          "output_type": "execute_result"
        }
      ],
      "source": [
        "from sklearn.preprocessing import LabelEncoder\n",
        "\n",
        "# Encode non categorical values\n",
        "values = df.values\n",
        "encoder = LabelEncoder()\n",
        "values[:,5] = encoder.fit_transform(values[:,5])\n",
        "values = values.astype('float32')\n",
        "values[:,5]"
      ]
    },
    {
      "cell_type": "code",
      "execution_count": 123,
      "metadata": {
        "colab": {},
        "colab_type": "code",
        "id": "mtVERgwftcNL"
      },
      "outputs": [],
      "source": [
        "#Normalising data\n",
        "from sklearn.preprocessing import MinMaxScaler\n",
        "\n",
        "scaler = MinMaxScaler(feature_range=(0, 1))\n",
        "scaled_dataset = scaler.fit_transform(values)"
      ]
    },
    {
      "cell_type": "code",
      "execution_count": 124,
      "metadata": {
        "colab": {},
        "colab_type": "code",
        "id": "fo5o7LHvtmam"
      },
      "outputs": [],
      "source": [
        "#Creating a window for previous data\n",
        "def to_supervised(train):\n",
        "  window_size = 5\n",
        "  X = []\n",
        "  Y = []\n",
        "  for i in range(window_size, len(train)):\n",
        "    X.append(train[i-window_size:i,:])\n",
        "    Y.append(train[i,0:1])\n",
        "    \n",
        "  return X,Y"
      ]
    },
    {
      "cell_type": "code",
      "execution_count": 125,
      "metadata": {
        "colab": {
          "base_uri": "https://localhost:8080/",
          "height": 51
        },
        "colab_type": "code",
        "id": "9Japs75UuF-D",
        "outputId": "232fa0f4-c3e0-4981-a0ad-1cd21e580504"
      },
      "outputs": [
        {
          "name": "stdout",
          "output_type": "stream",
          "text": [
            "Y (10605, 1)\n",
            "X (10605, 5, 7)\n"
          ]
        }
      ],
      "source": [
        "X, Y = to_supervised(scaled_dataset)\n",
        "X = np.array(X)\n",
        "Y = np.array(Y)\n",
        "print('Y' ,Y.shape)\n",
        "print('X' ,X.shape)\n"
      ]
    },
    {
      "cell_type": "code",
      "execution_count": 126,
      "metadata": {
        "colab": {
          "base_uri": "https://localhost:8080/",
          "height": 85
        },
        "colab_type": "code",
        "id": "A--d92h9uQV_",
        "outputId": "06dc1c61-2e25-470b-aa5d-40d454ab7b84"
      },
      "outputs": [
        {
          "name": "stdout",
          "output_type": "stream",
          "text": [
            "X_train (5355, 5, 7)\n",
            "X_test (5250, 5, 7)\n",
            "Y_train (5355, 1)\n",
            "Y_test (5250, 1)\n"
          ]
        }
      ],
      "source": [
        "#Splitting the dataset\n",
        "n_train = 75*70\n",
        "X_train, X_test = X[n_train:,] , X[:n_train,]\n",
        "print('X_train' ,X_train.shape)\n",
        "print('X_test' ,X_test.shape)\n",
        "\n",
        "Y_train, Y_test = Y[n_train:,] , Y[:n_train,]\n",
        "print('Y_train' ,Y_train.shape)\n",
        "print('Y_test' ,Y_test.shape)"
      ]
    },
    {
      "cell_type": "code",
      "execution_count": 127,
      "metadata": {
        "colab": {
          "base_uri": "https://localhost:8080/",
          "height": 34
        },
        "colab_type": "code",
        "id": "MnzdpfwM7OUa",
        "outputId": "0a99ae98-78c9-4c79-f5df-e9fbbda12e73"
      },
      "outputs": [],
      "source": [
        "#Importing LSTM model\n",
        "from keras.models import Sequential\n",
        "from keras.layers import Dense, Dropout,LSTM\n",
        "model = Sequential()\n",
        "model.add(LSTM(units = 50, return_sequences = True, input_shape=(X_train.shape[1], X_train.shape[2])))\n",
        "model.add(Dropout(0.2))\n",
        "\n",
        "model.add(LSTM(units = 50, return_sequences = True))\n",
        "model.add(Dropout(0.2))\n",
        "\n",
        "model.add(LSTM(units = 50))\n",
        "model.add(Dropout(0.2))\n",
        "\n",
        "model.add(Dense(units = 1))\n",
        "\n",
        "model.compile(optimizer = 'adam', loss = 'mean_squared_error')         "
      ]
    },
    {
      "cell_type": "code",
      "execution_count": 128,
      "metadata": {
        "colab": {
          "base_uri": "https://localhost:8080/",
          "height": 714
        },
        "colab_type": "code",
        "id": "fI1ihWPs-_2w",
        "outputId": "dd7af362-3c73-469a-a6d4-b326af713e4f"
      },
      "outputs": [
        {
          "name": "stdout",
          "output_type": "stream",
          "text": [
            "Epoch 1/20\n",
            "168/168 [==============================] - 25s 25ms/step - loss: 0.0197\n",
            "Epoch 2/20\n",
            "168/168 [==============================] - 4s 24ms/step - loss: 0.0039\n",
            "Epoch 3/20\n",
            "168/168 [==============================] - 3s 18ms/step - loss: 0.0030\n",
            "Epoch 4/20\n",
            "168/168 [==============================] - 5s 28ms/step - loss: 0.0029\n",
            "Epoch 5/20\n",
            "168/168 [==============================] - 4s 25ms/step - loss: 0.0027\n",
            "Epoch 6/20\n",
            "168/168 [==============================] - 4s 24ms/step - loss: 0.0029\n",
            "Epoch 7/20\n",
            "168/168 [==============================] - 4s 22ms/step - loss: 0.0026\n",
            "Epoch 8/20\n",
            "168/168 [==============================] - 5s 30ms/step - loss: 0.0025\n",
            "Epoch 9/20\n",
            "168/168 [==============================] - 5s 27ms/step - loss: 0.0021\n",
            "Epoch 10/20\n",
            "168/168 [==============================] - 4s 25ms/step - loss: 0.0023\n",
            "Epoch 11/20\n",
            "168/168 [==============================] - 4s 26ms/step - loss: 0.0023\n",
            "Epoch 12/20\n",
            "168/168 [==============================] - 4s 26ms/step - loss: 0.0022\n",
            "Epoch 13/20\n",
            "168/168 [==============================] - 3s 20ms/step - loss: 0.0023\n",
            "Epoch 14/20\n",
            "168/168 [==============================] - 4s 21ms/step - loss: 0.0021\n",
            "Epoch 15/20\n",
            "168/168 [==============================] - 3s 21ms/step - loss: 0.0019\n",
            "Epoch 16/20\n",
            "168/168 [==============================] - 4s 21ms/step - loss: 0.0019\n",
            "Epoch 17/20\n",
            "168/168 [==============================] - 3s 20ms/step - loss: 0.0019\n",
            "Epoch 18/20\n",
            "168/168 [==============================] - 4s 22ms/step - loss: 0.0019\n",
            "Epoch 19/20\n",
            "168/168 [==============================] - 4s 21ms/step - loss: 0.0018\n",
            "Epoch 20/20\n",
            "168/168 [==============================] - 4s 23ms/step - loss: 0.0018\n"
          ]
        },
        {
          "data": {
            "text/plain": [
              "<keras.src.callbacks.History at 0x2a67873eac0>"
            ]
          },
          "execution_count": 128,
          "metadata": {},
          "output_type": "execute_result"
        }
      ],
      "source": [
        "#Train the model\n",
        "model.fit(X_train, Y_train, epochs = 20, batch_size = 32)"
      ]
    },
    {
      "cell_type": "code",
      "execution_count": 129,
      "metadata": {
        "colab": {},
        "colab_type": "code",
        "id": "E0ORsAIKAwB2"
      },
      "outputs": [
        {
          "name": "stderr",
          "output_type": "stream",
          "text": [
            "c:\\Users\\QEC\\Anaconda3\\lib\\site-packages\\keras\\src\\engine\\training.py:3000: UserWarning: You are saving your model as an HDF5 file via `model.save()`. This file format is considered legacy. We recommend using instead the native Keras format, e.g. `model.save('my_model.keras')`.\n",
            "  saving_api.save_model(\n"
          ]
        }
      ],
      "source": [
        "#Taking predictions\n",
        "from keras.models import load_model\n",
        "model.save('AirPollutionMultivariate.h5')"
      ]
    },
    {
      "cell_type": "code",
      "execution_count": 130,
      "metadata": {
        "colab": {
          "base_uri": "https://localhost:8080/",
          "height": 34
        },
        "colab_type": "code",
        "id": "C6fEpNBnC7kz",
        "outputId": "b47dfbee-31f0-4e8f-d756-10af77354fc5"
      },
      "outputs": [
        {
          "name": "stdout",
          "output_type": "stream",
          "text": [
            "165/165 [==============================] - 9s 7ms/step\n"
          ]
        },
        {
          "data": {
            "text/plain": [
              "0.023692753"
            ]
          },
          "execution_count": 130,
          "metadata": {},
          "output_type": "execute_result"
        }
      ],
      "source": [
        "Y_pred = model.predict(X_test)\n",
        "\n",
        "from sklearn.metrics import mean_squared_error\n",
        "mse = mean_squared_error(Y_test, Y_pred)\n",
        "rmse = np.sqrt(mse)\n",
        "rmse"
      ]
    },
    {
      "cell_type": "code",
      "execution_count": null,
      "metadata": {},
      "outputs": [
        {
          "data": {
            "text/plain": [
              "0.9762482500602105"
            ]
          },
          "execution_count": 22,
          "metadata": {},
          "output_type": "execute_result"
        }
      ],
      "source": [
        "r2_m = r2_score(Y_test, Y_pred)\n",
        "#print(f\"r-squared score of original model: {r2_m:.3f}\")\n",
        "r2_m"
      ]
    },
    {
      "cell_type": "code",
      "execution_count": null,
      "metadata": {
        "colab": {
          "base_uri": "https://localhost:8080/",
          "height": 68
        },
        "colab_type": "code",
        "id": "mA0ofmp1DPSN",
        "outputId": "7407a957-df78-465f-d3be-83d508eb1956"
      },
      "outputs": [
        {
          "name": "stdout",
          "output_type": "stream",
          "text": [
            "y_predicted (5250, 1)\n",
            "X_test (5250, 5, 7)\n",
            "scaled Values shape (10610, 7)\n"
          ]
        }
      ],
      "source": [
        "#Y_predicted = scaler.inverse_transform(Y_pred)\n",
        "print('y_predicted',Y_pred.shape)\n",
        "#print('X_train' ,X_train.shape)\n",
        "print('X_test' ,X_test.shape)\n",
        "print('scaled Values shape', scaled_dataset.shape)"
      ]
    },
    {
      "cell_type": "code",
      "execution_count": null,
      "metadata": {
        "colab": {
          "base_uri": "https://localhost:8080/",
          "height": 85
        },
        "colab_type": "code",
        "id": "-4AniFeyDfD7",
        "outputId": "cc64e769-44e1-4ffd-9bcd-35b483ed9e68"
      },
      "outputs": [
        {
          "name": "stdout",
          "output_type": "stream",
          "text": [
            "dummy (5250, 7)\n",
            "Y_pred (5250, 1)\n",
            "concat y_pred (5250, 1)\n",
            "concat Y_test (5250, 1)\n"
          ]
        }
      ],
      "source": [
        "#Scaling back to the original scale\n",
        "d = scaled_dataset[:5250,:]\n",
        "print('dummy',d.shape)\n",
        "print('Y_pred',Y_pred.shape)\n",
        "Y_predicted = np.concatenate((Y_pred,d[:5250,1:]), axis =1)\n",
        "print('concat y_pred',Y_pred.shape)\n",
        "Y_tested = np.concatenate((Y_test, d[:5250,1:]), axis = 1)\n",
        "print('concat Y_test', Y_test.shape)"
      ]
    },
    {
      "cell_type": "code",
      "execution_count": null,
      "metadata": {
        "colab": {
          "base_uri": "https://localhost:8080/",
          "height": 51
        },
        "colab_type": "code",
        "id": "13B5_7XIHPLh",
        "outputId": "40b6c243-090c-405c-875f-651eb40b9373"
      },
      "outputs": [
        {
          "name": "stdout",
          "output_type": "stream",
          "text": [
            "Y_tested (5250, 1)\n",
            "Y_predicted (5250, 1)\n"
          ]
        }
      ],
      "source": [
        "Y_predicted = scaler.inverse_transform(Y_predicted)\n",
        "Y_tested = scaler.inverse_transform(Y_tested)\n",
        "Y_predicted = Y_predicted[:,0:1]\n",
        "Y_tested = Y_tested[:,0:1]\n",
        "print('Y_tested', Y_tested.shape)\n",
        "print('Y_predicted', Y_predicted.shape)"
      ]
    },
    {
      "cell_type": "code",
      "execution_count": null,
      "metadata": {
        "colab": {
          "base_uri": "https://localhost:8080/",
          "height": 34
        },
        "colab_type": "code",
        "id": "-dtpEAfGQsYJ",
        "outputId": "ce0bbb49-d5ab-45a6-cd2b-d3fc74bb91f8"
      },
      "outputs": [
        {
          "data": {
            "text/plain": [
              "11.35551"
            ]
          },
          "execution_count": 27,
          "metadata": {},
          "output_type": "execute_result"
        }
      ],
      "source": [
        "from sklearn.metrics import mean_squared_error\n",
        "mse = mean_squared_error(Y_tested, Y_predicted)\n",
        "\n",
        "rmse = np.sqrt(mse)\n",
        "rmse"
      ]
    },
    {
      "cell_type": "code",
      "execution_count": null,
      "metadata": {},
      "outputs": [
        {
          "data": {
            "text/plain": [
              "0.9762482538076248"
            ]
          },
          "execution_count": 28,
          "metadata": {},
          "output_type": "execute_result"
        }
      ],
      "source": [
        "r2_p = r2_score(Y_tested, Y_predicted)\n",
        "#print(f\"r-squared score of original model: {r2_p:.3f}\")\n",
        "r2_p"
      ]
    },
    {
      "cell_type": "code",
      "execution_count": null,
      "metadata": {
        "colab": {
          "base_uri": "https://localhost:8080/",
          "height": 421
        },
        "colab_type": "code",
        "id": "40LyAdCZfZet",
        "outputId": "72ed7906-b53b-48e6-bf4a-5673bcbdb2eb"
      },
      "outputs": [
        {
          "data": {
            "image/png": "[encoded data removed]",
            "text/plain": [
              "<Figure size 720x432 with 1 Axes>"
            ]
          },
          "metadata": {
            "needs_background": "light"
          },
          "output_type": "display_data"
        },
        {
          "data": {
            "text/plain": [
              "<Figure size 432x288 with 0 Axes>"
            ]
          },
          "metadata": {},
          "output_type": "display_data"
        }
      ],
      "source": [
        "#Plot the graph between actual vs predicted values\n",
        "plt.figure(figsize=(10,6))  \n",
        "plt.plot(Y_predicted, color= 'green',label = 'Predicted AQI level')\n",
        "plt.plot(Y_tested, color = 'red',label = 'Actual AQI level')\n",
        "plt.title(\"Air AQI Prediction\")\n",
        "plt.xlabel(\"Index\")\n",
        "plt.ylabel(\"AQI level\")\n",
        "plt.legend()\n",
        "plt.show()\n",
        "plt.savefig('graph.png')"
      ]
    },
    {
      "cell_type": "code",
      "execution_count": null,
      "metadata": {
        "colab": {
          "base_uri": "https://localhost:8080/",
          "height": 68
        },
        "colab_type": "code",
        "id": "ulPQvfoXmyC4",
        "outputId": "0de176eb-b4c3-47f5-b55b-bd220dff9176"
      },
      "outputs": [
        {
          "name": "stdout",
          "output_type": "stream",
          "text": [
            "MAPE 5.959432944655418\n"
          ]
        }
      ],
      "source": [
        "def mean_absolute_percentage_error(y_true, y_pred): \n",
        "    y_true, y_pred = np.array(y_true), np.array(y_pred)\n",
        "    return np.mean(np.abs((y_true - y_pred) / y_true)) * 100\n",
        "\n",
        "mape = mean_absolute_percentage_error(Y_tested, Y_predicted)\n",
        "print('MAPE', mape)\n"
      ]
    },
    {
      "cell_type": "code",
      "execution_count": null,
      "metadata": {
        "colab": {
          "base_uri": "https://localhost:8080/",
          "height": 51
        },
        "colab_type": "code",
        "id": "BCODs7Kom7uK",
        "outputId": "267f304e-03d7-43b0-92ea-ebc300c39823"
      },
      "outputs": [
        {
          "name": "stdout",
          "output_type": "stream",
          "text": [
            "RMSE 9.804111\n",
            "Mean of Test data  136.92247\n"
          ]
        }
      ],
      "source": [
        "from sklearn.metrics import mean_squared_error\n",
        "mse = mean_squared_error(Y_tested, Y_predicted)\n",
        "#print('Mean squared error', mse)\n",
        "print('RMSE' , np.sqrt(mse))\n",
        "print(\"Mean of Test data \", np.mean(Y_tested))"
      ]
    }
  ],
  "metadata": {
    "accelerator": "GPU",
    "colab": {
      "collapsed_sections": [],
      "name": "AirPollutionMultivariate.ipynb",
      "provenance": []
    },
    "kernelspec": {
      "display_name": "myvenv",
      "language": "python",
      "name": "myvenv"
    },
    "language_info": {
      "codemirror_mode": {
        "name": "ipython",
        "version": 3
      },
      "file_extension": ".py",
      "mimetype": "text/x-python",
      "name": "python",
      "nbconvert_exporter": "python",
      "pygments_lexer": "ipython3",
      "version": "3.8.8"
    }
  },
  "nbformat": 4,
  "nbformat_minor": 0
}
